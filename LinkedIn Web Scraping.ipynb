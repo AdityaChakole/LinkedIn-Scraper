{
 "cells": [
  {
   "cell_type": "markdown",
   "id": "ba190e47",
   "metadata": {},
   "source": [
    "# Scraping LinkedIn"
   ]
  },
  {
   "cell_type": "code",
   "execution_count": 206,
   "id": "1371dd9f",
   "metadata": {},
   "outputs": [
    {
     "data": {
      "text/plain": [
       "<selenium.webdriver.chrome.webdriver.WebDriver (session=\"c9a5b82ae2b1d6dff9269c0022a1a5e2\")>"
      ]
     },
     "execution_count": 206,
     "metadata": {},
     "output_type": "execute_result"
    }
   ],
   "source": [
    "from selenium import webdriver\n",
    "driver=webdriver.Chrome()\n",
    "driver"
   ]
  },
  {
   "cell_type": "code",
   "execution_count": null,
   "id": "58e42a10",
   "metadata": {},
   "outputs": [],
   "source": [
    "#Providing Link from LinkedIn to be Scraped"
   ]
  },
  {
   "cell_type": "code",
   "execution_count": 207,
   "id": "f1e09b3a",
   "metadata": {},
   "outputs": [],
   "source": [
    "driver.get('https://www.linkedin.com/jobs/search/?keywords=Data%20Scientist&location=India&locationId=&geoId=102713980&f_TPR=r604800&position=1&pageNum=0')"
   ]
  },
  {
   "cell_type": "code",
   "execution_count": null,
   "id": "2c8033ca",
   "metadata": {},
   "outputs": [],
   "source": [
    "#Scraping Basic information on the Jobs Available of Data Science"
   ]
  },
  {
   "cell_type": "code",
   "execution_count": 166,
   "id": "1d7dfabe",
   "metadata": {},
   "outputs": [],
   "source": [
    "title=[]\n",
    "company=[]\n",
    "location=[]\n",
    "w_t=[]\n",
    "work_type=['On-site','Hybrid','Remote']"
   ]
  },
  {
   "cell_type": "code",
   "execution_count": null,
   "id": "374b31c9",
   "metadata": {},
   "outputs": [],
   "source": [
    "# Since there are many jobs where Job type is not mentioned, adding another class for such cases"
   ]
  },
  {
   "cell_type": "code",
   "execution_count": 185,
   "id": "8d0e5d5d",
   "metadata": {
    "scrolled": true
   },
   "outputs": [
    {
     "name": "stderr",
     "output_type": "stream",
     "text": [
      "C:\\Users\\lenov\\AppData\\Local\\Temp/ipykernel_23428/451957995.py:1: DeprecationWarning: find_elements_by_class_name is deprecated. Please use find_elements(by=By.CLASS_NAME, value=name) instead\n",
      "  main=driver.find_elements_by_class_name('job-card-container')\n"
     ]
    }
   ],
   "source": [
    "main=driver.find_elements_by_class_name('job-card-container')\n",
    "for i in main:\n",
    "    split=i.text.split('\\n')\n",
    "    if split[3] in work_type:\n",
    "        title.append(split[0])\n",
    "        company.append(split[1])\n",
    "        location.append(split[2])\n",
    "        w_t.append(split[3])\n",
    "    else:\n",
    "        title.append(split[0])\n",
    "        company.append(split[1])\n",
    "        location.append(split[2])\n",
    "        w_t.append('Not specified')\n",
    "\n",
    "\n",
    "\n",
    "\n",
    "        "
   ]
  },
  {
   "cell_type": "code",
   "execution_count": 194,
   "id": "3149fbdb",
   "metadata": {
    "collapsed": true
   },
   "outputs": [
    {
     "name": "stderr",
     "output_type": "stream",
     "text": [
      "C:\\Users\\lenov\\AppData\\Local\\Temp/ipykernel_23428/4053726890.py:2: DeprecationWarning: find_elements_by_tag_name is deprecated. Please use find_elements(by=By.TAG_NAME, value=name) instead\n",
      "  l=driver.find_elements_by_tag_name('button')\n"
     ]
    },
    {
     "data": {
      "text/plain": [
       "[None,\n",
       " None,\n",
       " None,\n",
       " None,\n",
       " None,\n",
       " None,\n",
       " None,\n",
       " None,\n",
       " None,\n",
       " None,\n",
       " None,\n",
       " None,\n",
       " None,\n",
       " None,\n",
       " None,\n",
       " None,\n",
       " None,\n",
       " None,\n",
       " None,\n",
       " None,\n",
       " None,\n",
       " None,\n",
       " None,\n",
       " None,\n",
       " None,\n",
       " None,\n",
       " None,\n",
       " None,\n",
       " None,\n",
       " None,\n",
       " None,\n",
       " None,\n",
       " None,\n",
       " None,\n",
       " None,\n",
       " None,\n",
       " None,\n",
       " None,\n",
       " None,\n",
       " None,\n",
       " None,\n",
       " None,\n",
       " None,\n",
       " None,\n",
       " None,\n",
       " None,\n",
       " None,\n",
       " None,\n",
       " None,\n",
       " None,\n",
       " None,\n",
       " None,\n",
       " None,\n",
       " None,\n",
       " None,\n",
       " None,\n",
       " None,\n",
       " None,\n",
       " None,\n",
       " None,\n",
       " None,\n",
       " None,\n",
       " None,\n",
       " None]"
      ]
     },
     "execution_count": 194,
     "metadata": {},
     "output_type": "execute_result"
    }
   ],
   "source": [
    "links=[]\n",
    "l=driver.find_elements_by_tag_name('button')\n",
    "for i in l:\n",
    "    links.append(i.get_property('href'))\n",
    "links\n",
    "\n",
    "# //*[@id=\"ember16720\"]/button/span\n",
    "# //*[@id=\"ember16723\"]/button/span"
   ]
  },
  {
   "cell_type": "code",
   "execution_count": 187,
   "id": "cfec8be1",
   "metadata": {
    "scrolled": false
   },
   "outputs": [
    {
     "data": {
      "text/html": [
       "<div>\n",
       "<style scoped>\n",
       "    .dataframe tbody tr th:only-of-type {\n",
       "        vertical-align: middle;\n",
       "    }\n",
       "\n",
       "    .dataframe tbody tr th {\n",
       "        vertical-align: top;\n",
       "    }\n",
       "\n",
       "    .dataframe thead th {\n",
       "        text-align: right;\n",
       "    }\n",
       "</style>\n",
       "<table border=\"1\" class=\"dataframe\">\n",
       "  <thead>\n",
       "    <tr style=\"text-align: right;\">\n",
       "      <th></th>\n",
       "      <th>Title</th>\n",
       "      <th>Company</th>\n",
       "      <th>Location</th>\n",
       "      <th>Work Type</th>\n",
       "    </tr>\n",
       "  </thead>\n",
       "  <tbody>\n",
       "    <tr>\n",
       "      <th>0</th>\n",
       "      <td>Data Scientist: Advanced Analytics</td>\n",
       "      <td>IBM</td>\n",
       "      <td>Bengaluru, Karnataka, India</td>\n",
       "      <td>On-site</td>\n",
       "    </tr>\n",
       "    <tr>\n",
       "      <th>1</th>\n",
       "      <td>Data Scientist (R-12083)</td>\n",
       "      <td>Dun &amp; Bradstreet</td>\n",
       "      <td>Hyderabad, Telangana, India</td>\n",
       "      <td>Not specified</td>\n",
       "    </tr>\n",
       "    <tr>\n",
       "      <th>2</th>\n",
       "      <td>Data Scientist: Artificial Intelligence</td>\n",
       "      <td>IBM</td>\n",
       "      <td>Bengaluru, Karnataka, India</td>\n",
       "      <td>On-site</td>\n",
       "    </tr>\n",
       "    <tr>\n",
       "      <th>3</th>\n",
       "      <td>Data Scientist: Artificial Intelligence</td>\n",
       "      <td>IBM</td>\n",
       "      <td>Bengaluru, Karnataka, India</td>\n",
       "      <td>On-site</td>\n",
       "    </tr>\n",
       "    <tr>\n",
       "      <th>4</th>\n",
       "      <td>AGM-Data Scientist</td>\n",
       "      <td>Vodafone Idea Limited</td>\n",
       "      <td>Mumbai, Maharashtra, India</td>\n",
       "      <td>On-site</td>\n",
       "    </tr>\n",
       "    <tr>\n",
       "      <th>...</th>\n",
       "      <td>...</td>\n",
       "      <td>...</td>\n",
       "      <td>...</td>\n",
       "      <td>...</td>\n",
       "    </tr>\n",
       "    <tr>\n",
       "      <th>402</th>\n",
       "      <td>Software Engineer-Ruby on Rails -GovD</td>\n",
       "      <td>Granicus</td>\n",
       "      <td>Bangalore Urban, Karnataka, India</td>\n",
       "      <td>Remote</td>\n",
       "    </tr>\n",
       "    <tr>\n",
       "      <th>403</th>\n",
       "      <td>Data Science Specialist</td>\n",
       "      <td>TransOrg Analytics</td>\n",
       "      <td>Gurgaon, Haryana, India</td>\n",
       "      <td>On-site</td>\n",
       "    </tr>\n",
       "    <tr>\n",
       "      <th>404</th>\n",
       "      <td>HTML Developer</td>\n",
       "      <td>Uplers</td>\n",
       "      <td>Pune, Maharashtra, India</td>\n",
       "      <td>Remote</td>\n",
       "    </tr>\n",
       "    <tr>\n",
       "      <th>405</th>\n",
       "      <td>PHP Developer</td>\n",
       "      <td>AppWebStudios</td>\n",
       "      <td>Gurugram, Haryana, India</td>\n",
       "      <td>On-site</td>\n",
       "    </tr>\n",
       "    <tr>\n",
       "      <th>406</th>\n",
       "      <td>Python Developer</td>\n",
       "      <td>Tech Mahindra</td>\n",
       "      <td>Hyderabad, Telangana, India</td>\n",
       "      <td>On-site</td>\n",
       "    </tr>\n",
       "  </tbody>\n",
       "</table>\n",
       "<p>407 rows × 4 columns</p>\n",
       "</div>"
      ],
      "text/plain": [
       "                                       Title                Company  \\\n",
       "0         Data Scientist: Advanced Analytics                    IBM   \n",
       "1                   Data Scientist (R-12083)       Dun & Bradstreet   \n",
       "2    Data Scientist: Artificial Intelligence                    IBM   \n",
       "3    Data Scientist: Artificial Intelligence                    IBM   \n",
       "4                         AGM-Data Scientist  Vodafone Idea Limited   \n",
       "..                                       ...                    ...   \n",
       "402    Software Engineer-Ruby on Rails -GovD               Granicus   \n",
       "403                  Data Science Specialist     TransOrg Analytics   \n",
       "404                           HTML Developer                 Uplers   \n",
       "405                            PHP Developer          AppWebStudios   \n",
       "406                         Python Developer          Tech Mahindra   \n",
       "\n",
       "                              Location      Work Type  \n",
       "0          Bengaluru, Karnataka, India        On-site  \n",
       "1          Hyderabad, Telangana, India  Not specified  \n",
       "2          Bengaluru, Karnataka, India        On-site  \n",
       "3          Bengaluru, Karnataka, India        On-site  \n",
       "4           Mumbai, Maharashtra, India        On-site  \n",
       "..                                 ...            ...  \n",
       "402  Bangalore Urban, Karnataka, India         Remote  \n",
       "403            Gurgaon, Haryana, India        On-site  \n",
       "404           Pune, Maharashtra, India         Remote  \n",
       "405           Gurugram, Haryana, India        On-site  \n",
       "406        Hyderabad, Telangana, India        On-site  \n",
       "\n",
       "[407 rows x 4 columns]"
      ]
     },
     "execution_count": 187,
     "metadata": {},
     "output_type": "execute_result"
    }
   ],
   "source": [
    "import pandas as pd\n",
    "d = {'Title': title, 'Company': company\n",
    ", 'Location': location, 'Work Type': w_t}\n",
    "df = pd.concat([pd.Series(v, name=k) for k, v in d.items()], axis=1)\n",
    "df"
   ]
  },
  {
   "cell_type": "code",
   "execution_count": null,
   "id": "f089ab40",
   "metadata": {},
   "outputs": [],
   "source": [
    "#Below fig shows the distribution of Job types in India for Data Science Job"
   ]
  },
  {
   "cell_type": "code",
   "execution_count": 192,
   "id": "2c840619",
   "metadata": {
    "scrolled": true
   },
   "outputs": [
    {
     "name": "stderr",
     "output_type": "stream",
     "text": [
      "C:\\Users\\lenov\\anaconda3\\lib\\site-packages\\seaborn\\_decorators.py:36: FutureWarning: Pass the following variable as a keyword arg: x. From version 0.12, the only valid positional argument will be `data`, and passing other arguments without an explicit keyword will result in an error or misinterpretation.\n",
      "  warnings.warn(\n"
     ]
    },
    {
     "data": {
      "text/plain": [
       "<AxesSubplot:xlabel='Work Type', ylabel='count'>"
      ]
     },
     "execution_count": 192,
     "metadata": {},
     "output_type": "execute_result"
    },
    {
     "data": {
      "image/png": "[encoded data removed]",
      "text/plain": [
       "<Figure size 1080x360 with 1 Axes>"
      ]
     },
     "metadata": {
      "needs_background": "light"
     },
     "output_type": "display_data"
    }
   ],
   "source": [
    "import seaborn as sns\n",
    "import matplotlib.pyplot as plt\n",
    "plt.figure(figsize=(15, 5))\n",
    "sns.countplot(df['Work Type'])"
   ]
  },
  {
   "cell_type": "code",
   "execution_count": null,
   "id": "fb889c60",
   "metadata": {},
   "outputs": [],
   "source": [
    "# As Data Science being a resarch oriented field we can observe that most of the companies require On-site work"
   ]
  },
  {
   "cell_type": "raw",
   "id": "15f549f7",
   "metadata": {},
   "source": [
    "EDA on Location, Data science Job family & Companies "
   ]
  },
  {
   "cell_type": "code",
   "execution_count": 191,
   "id": "3920ed2c",
   "metadata": {
    "scrolled": true
   },
   "outputs": [
    {
     "data": {
      "text/plain": [
       "Bengaluru, Karnataka, India                  163\n",
       "Mumbai, Maharashtra, India                    32\n",
       "Hyderabad, Telangana, India                   30\n",
       "India                                         28\n",
       "Pune, Maharashtra, India                      24\n",
       "Gurgaon, Haryana, India                       21\n",
       "Chennai, Tamil Nadu, India                    19\n",
       "Gurugram, Haryana, India                      19\n",
       "Bangalore Urban, Karnataka, India             13\n",
       "Noida, Uttar Pradesh, India                    8\n",
       "Ahmedabad, Gujarat, India                      5\n",
       "Kolkata, West Bengal, India                    5\n",
       "New Delhi, Delhi, India                        4\n",
       "Delhi, Delhi, India                            4\n",
       "Greater Bengaluru Area                         3\n",
       "Pune/Pimpri-Chinchwad Area                     3\n",
       "Trivandrum, Kerala, India                      3\n",
       "Greater Kolkata Area                           2\n",
       "Udaipur, Rajasthan, India                      2\n",
       "South Delhi, Delhi, India                      1\n",
       "Faridabad, Haryana, India                      1\n",
       "Coimbatore, Tamil Nadu, India                  1\n",
       "Navi Mumbai, Maharashtra, India                1\n",
       "Dehradun, Uttarakhand, India                   1\n",
       "Sahibzada Ajit Singh Nagar, Punjab, India      1\n",
       "Thane, Maharashtra, India                      1\n",
       "Jaipur, Rajasthan, India                       1\n",
       "Telangana, India                               1\n",
       "Budaun Sadar, Uttar Pradesh, India             1\n",
       "Sikandra Rao, Uttar Pradesh, India             1\n",
       "Greater Chennai Area                           1\n",
       "Ghaziabad, Uttar Pradesh, India                1\n",
       "Kharagpur-I, West Bengal, India                1\n",
       "Itanagar, Arunachal Pradesh, India             1\n",
       "Nagpur, Maharashtra, India                     1\n",
       "Bengaluru North, Karnataka, India              1\n",
       "Kochi, Kerala, India                           1\n",
       "Greater Hyderabad Area                         1\n",
       "Name: Location, dtype: int64"
      ]
     },
     "execution_count": 191,
     "metadata": {},
     "output_type": "execute_result"
    }
   ],
   "source": [
    "df['Location'].value_counts()"
   ]
  },
  {
   "cell_type": "code",
   "execution_count": 197,
   "id": "1c9ef477",
   "metadata": {},
   "outputs": [
    {
     "data": {
      "text/plain": [
       "Data Scientist                                                  108\n",
       "Senior Data Scientist                                            38\n",
       "Lead Data Scientist                                              14\n",
       "Sr. Data Scientist                                               10\n",
       "Staff Data Scientist                                              9\n",
       "Data Scientist: Artificial Intelligence                           7\n",
       "Principal Data Scientist                                          6\n",
       "Applied Data Scientist                                            6\n",
       "Python Django Training Program                                    4\n",
       "Data scientist                                                    4\n",
       "Lead Data Scientist – AI Graph Expert                             4\n",
       "Tech Consulting- IA- Data Scientist -Senior                       4\n",
       "Head - Quantitative Analytics Division (Lead data Scientist)      4\n",
       "Data Scientist I                                                  3\n",
       "Data Scientist 1                                                  3\n",
       "Data Scientist: Advanced Analytics                                3\n",
       "Join us as Manager - Data Scientist - BFSI (1-7 yrs)              3\n",
       "ACN - Applied Intelligence - CC - Data Science (IN) - 07          3\n",
       "Machine Learning Engineer                                         2\n",
       "Data Scientist - Software Engineer - Advanced                     2\n",
       "Name: Title, dtype: int64"
      ]
     },
     "execution_count": 197,
     "metadata": {},
     "output_type": "execute_result"
    }
   ],
   "source": [
    "df['Title'].value_counts().head(20)"
   ]
  },
  {
   "cell_type": "code",
   "execution_count": 198,
   "id": "c58aa0bf",
   "metadata": {
    "scrolled": false
   },
   "outputs": [
    {
     "data": {
      "text/plain": [
       "IBM                                        10\n",
       "Accenture in India                          9\n",
       "Amazon                                      8\n",
       "GFL Recruitment Private Limited             7\n",
       "EY                                          6\n",
       "Deloitte                                    6\n",
       "EAGateway Services India Pvt Ltd            6\n",
       "PayPal                                      6\n",
       "Walmart Global Tech India                   5\n",
       "Tata Consultancy Services                   5\n",
       "Ecolab                                      5\n",
       "Applied Materials                           5\n",
       "Societe Generale Global Solution Centre     5\n",
       "JPMorgan Chase & Co.                        4\n",
       "GC Internships                              4\n",
       "HP                                          4\n",
       "o9 Solutions, Inc.                          4\n",
       "Thomson Reuters                             4\n",
       "Tesco Bengaluru                             4\n",
       "dunnhumby                                   3\n",
       "Name: Company, dtype: int64"
      ]
     },
     "execution_count": 198,
     "metadata": {},
     "output_type": "execute_result"
    }
   ],
   "source": [
    "df['Company'].value_counts().head(20) \n",
    "#since the data contains past week data "
   ]
  },
  {
   "cell_type": "code",
   "execution_count": null,
   "id": "c240b5a8",
   "metadata": {},
   "outputs": [],
   "source": [
    "#EDA- Work Type specific to Banglore"
   ]
  },
  {
   "cell_type": "code",
   "execution_count": 205,
   "id": "239d7b63",
   "metadata": {
    "scrolled": true
   },
   "outputs": [
    {
     "name": "stderr",
     "output_type": "stream",
     "text": [
      "C:\\Users\\lenov\\anaconda3\\lib\\site-packages\\seaborn\\_decorators.py:36: FutureWarning: Pass the following variable as a keyword arg: x. From version 0.12, the only valid positional argument will be `data`, and passing other arguments without an explicit keyword will result in an error or misinterpretation.\n",
      "  warnings.warn(\n"
     ]
    },
    {
     "data": {
      "text/plain": [
       "<AxesSubplot:xlabel='Work Type', ylabel='count'>"
      ]
     },
     "execution_count": 205,
     "metadata": {},
     "output_type": "execute_result"
    },
    {
     "data": {
      "image/png": "[encoded data removed]",
      "text/plain": [
       "<Figure size 432x288 with 1 Axes>"
      ]
     },
     "metadata": {
      "needs_background": "light"
     },
     "output_type": "display_data"
    }
   ],
   "source": [
    "b_df=df[df['Location']=='Bengaluru, Karnataka, India']\n",
    "sns.countplot(b_df['Work Type'])"
   ]
  },
  {
   "cell_type": "code",
   "execution_count": null,
   "id": "de425960",
   "metadata": {},
   "outputs": [],
   "source": [
    "Key Learnings:\n",
    "\n",
    "- Log in-Layout changes\n",
    "- Required info doesnt have specified tabs\n",
    "- Class name changes - Links Available 713 \n"
   ]
  },
  {
   "cell_type": "code",
   "execution_count": null,
   "id": "fb0968a9",
   "metadata": {},
   "outputs": [],
   "source": [
    "Conclusion: Required Info was succesfully scraped from LinkedIn, further performing EDA provided us with useful Insights."
   ]
  }
 ],
 "metadata": {
  "kernelspec": {
   "display_name": "Python 3 (ipykernel)",
   "language": "python",
   "name": "python3"
  },
  "language_info": {
   "codemirror_mode": {
    "name": "ipython",
    "version": 3
   },
   "file_extension": ".py",
   "mimetype": "text/x-python",
   "name": "python",
   "nbconvert_exporter": "python",
   "pygments_lexer": "ipython3",
   "version": "3.9.12"
  }
 },
 "nbformat": 4,
 "nbformat_minor": 5
}
